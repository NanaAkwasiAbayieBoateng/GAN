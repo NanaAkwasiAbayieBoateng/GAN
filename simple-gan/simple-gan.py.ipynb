{
 "cells": [
  {
   "cell_type": "code",
   "execution_count": 1,
   "metadata": {},
   "outputs": [],
   "source": [
    "import tensorflow as tf\n",
    "import random\n",
    "import numpy as np\n",
    "import matplotlib.pyplot as plt"
   ]
  },
  {
   "cell_type": "code",
   "execution_count": 2,
   "metadata": {},
   "outputs": [
    {
     "name": "stdout",
     "output_type": "stream",
     "text": [
      "Successfully downloaded train-images-idx3-ubyte.gz 9912422 bytes.\n",
      "Extracting MNIST_data/train-images-idx3-ubyte.gz\n",
      "Successfully downloaded train-labels-idx1-ubyte.gz 28881 bytes.\n",
      "Extracting MNIST_data/train-labels-idx1-ubyte.gz\n",
      "Successfully downloaded t10k-images-idx3-ubyte.gz 1648877 bytes.\n",
      "Extracting MNIST_data/t10k-images-idx3-ubyte.gz\n",
      "Successfully downloaded t10k-labels-idx1-ubyte.gz 4542 bytes.\n",
      "Extracting MNIST_data/t10k-labels-idx1-ubyte.gz\n"
     ]
    }
   ],
   "source": [
    "from tensorflow.examples.tutorials.mnist import input_data\n",
    "mnist = input_data.read_data_sets(\"MNIST_data/\")"
   ]
  },
  {
   "cell_type": "code",
   "execution_count": 3,
   "metadata": {},
   "outputs": [
    {
     "data": {
      "text/plain": [
       "(55000, 784)"
      ]
     },
     "execution_count": 3,
     "metadata": {},
     "output_type": "execute_result"
    }
   ],
   "source": [
    "x_train = mnist.train.images[:55000,:]\n",
    "x_train.shape"
   ]
  },
  {
   "cell_type": "code",
   "execution_count": 4,
   "metadata": {},
   "outputs": [
    {
     "data": {
      "image/png": "[encoded data removed]",
      "text/plain": [
       "<matplotlib.figure.Figure at 0x7f77349e1b50>"
      ]
     },
     "metadata": {},
     "output_type": "display_data"
    }
   ],
   "source": [
    "randomNum = random.randint(0,55000)\n",
    "image = x_train[randomNum].reshape([28,28])\n",
    "plt.imshow(image, cmap=plt.get_cmap('gray_r'))\n",
    "plt.show()"
   ]
  },
  {
   "cell_type": "code",
   "execution_count": 5,
   "metadata": {},
   "outputs": [],
   "source": [
    "def conv2d(x, W):\n",
    "  return tf.nn.conv2d(input=x, filter=W, strides=[1, 1, 1, 1], padding='SAME')\n",
    "\n",
    "def avg_pool_2x2(x):\n",
    "  return tf.nn.avg_pool(x, ksize=[1, 2, 2, 1], strides=[1, 2, 2, 1], padding='SAME')"
   ]
  },
  {
   "cell_type": "code",
   "execution_count": 7,
   "metadata": {},
   "outputs": [],
   "source": [
    "# DISCRIMINATOR NETWORK\n",
    "def discriminatorNet(x_image, reuse = False):\n",
    "    with tf.variable_scope('discriminatorNet') as scope:\n",
    "        if (reuse):\n",
    "            tf.get_variable_scope().reuse_variables()\n",
    "            \n",
    "        normalIntializer = tf.truncated_normal_initializer(stddev = 0.02)\n",
    "        \n",
    "        # First Convolution and Pool layer\n",
    "        WConv1 = tf.get_variable('d_wconv1', [5, 5, 1, 8], initializer = normalInitializer)\n",
    "        bConv1 = tf.get_variable('d_bconv1', [8], initializer=tf.constant_initializer(0))\n",
    "        hConv1 = tf.nn.relu(conv2d(x_image, WConv1) + bConv1)\n",
    "        hPool1 = avg_pool_2x2(hConv1)\n",
    "\n",
    "        # First Convolution and Pool layer\n",
    "        WConv2 = tf.get_variable('d_wconv2', [5, 5, 8, 16], initializer = normalInitializer)\n",
    "        bConv2 = tf.get_variable('d_bconv2', [16], initializer=tf.constant_initializer(0))\n",
    "        hConv2 = tf.nn.relu(conv2d(x_image, WConv1) + bConv1)\n",
    "        hPool2 = avg_pool_2x2(hConv2)\n",
    "\n",
    "\n",
    "        # First Fully connected layer\n",
    "        WFC1 = tf.get_variable('d_wfc1', [7 * 7 * 16, 32], initializer = normalInitializer)\n",
    "        bFC1 = tf.get_variable('d_bfc1', [32], initializer=tf.constant_initializer(0))\n",
    "        hPool2Flat = tf.reshape(hPool2, [-1, 7*7*16])\n",
    "        hFC1 = tf.nn.relu(tf.matmul(hPool2Flat, WFC1)+ bFC1)\n",
    "        \n",
    "        # Second Fully connected layer\n",
    "        WFC2 = tf.get_variable('d_wfc2', [32,1], initializer = normalIntializer)\n",
    "        bFC2 = tf.get_variable('d_bfc2', [1], initializer = tf.constant_initializer(0))\n",
    "        \n",
    "        # Final layer\n",
    "        yConv = (tf.matmul(hFC1, WFC2) + bFC2)\n",
    "    return yConv"
   ]
  },
  {
   "cell_type": "code",
   "execution_count": null,
   "metadata": {},
   "outputs": [],
   "source": []
  }
 ],
 "metadata": {
  "kernelspec": {
   "display_name": "Python 2",
   "language": "python",
   "name": "python2"
  },
  "language_info": {
   "codemirror_mode": {
    "name": "ipython",
    "version": 2
   },
   "file_extension": ".py",
   "mimetype": "text/x-python",
   "name": "python",
   "nbconvert_exporter": "python",
   "pygments_lexer": "ipython2",
   "version": "2.7.14"
  }
 },
 "nbformat": 4,
 "nbformat_minor": 2
}

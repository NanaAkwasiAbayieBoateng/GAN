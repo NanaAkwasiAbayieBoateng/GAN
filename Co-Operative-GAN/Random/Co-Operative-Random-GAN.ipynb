{
 "cells": [
  {
   "cell_type": "code",
   "execution_count": 1,
   "metadata": {},
   "outputs": [],
   "source": [
    "import torch\n",
    "import torch.nn as nn\n",
    "import torch.nn.functional as F\n",
    "from torch.autograd import Variable\n",
    "from torchvision import datasets\n",
    "from torchvision import transforms\n",
    "import torchvision\n",
    "import os\n",
    "import numpy as np\n",
    "import matplotlib.pyplot as plt\n",
    "import torchvision.utils as tutils\n",
    "import imageio\n",
    "import pickle\n",
    "import copy\n",
    "from PIL import Image\n",
    "import random"
   ]
  },
  {
   "cell_type": "code",
   "execution_count": 2,
   "metadata": {},
   "outputs": [],
   "source": [
    "# Options being used \n",
    "batch_size = 100\n",
    "imgDim = 28\n",
    "path = './genImg/'\n",
    "showPlot = False\n",
    "savePlot = True\n",
    "num_epochs = 200\n",
    "IS_CUDA = False\n",
    "\n",
    "transform = transforms.Compose([\n",
    "                transforms.ToTensor(),\n",
    "                transforms.Normalize(mean=(0.5, 0.5, 0.5), \n",
    "                                     std=(0.5, 0.5, 0.5))])"
   ]
  },
  {
   "cell_type": "code",
   "execution_count": 3,
   "metadata": {},
   "outputs": [],
   "source": [
    "# MNIST dataset\n",
    "dataset = datasets.MNIST(root='../../Data',\n",
    "                         train=True,\n",
    "                         transform=transform,\n",
    "                         download=True)\n",
    "# Data loader\n",
    "data_loader = torch.utils.data.DataLoader(dataset=dataset,\n",
    "                                          batch_size=batch_size, \n",
    "                                          shuffle=True)\n"
   ]
  },
  {
   "cell_type": "code",
   "execution_count": 18,
   "metadata": {},
   "outputs": [],
   "source": [
    "# Helper routines\n",
    "if torch.cuda.is_available():\n",
    "    IS_CUDA = True\n",
    "    \n",
    "def var(x):\n",
    "    if IS_CUDA:\n",
    "        x = x.cuda()\n",
    "    return Variable(x)\n",
    "\n",
    "def show(img):\n",
    "    npimg = img.numpy()\n",
    "    plt.imshow(np.transpose(npimg, (1,2,0)), interpolation='nearest')\n",
    "    \n",
    "def denorm(x):\n",
    "    out = (x + 1) / 2\n",
    "    return out.clamp(0, 1)\n",
    "\n",
    "def generate_animation(root, epoch, name):\n",
    "    images = []\n",
    "    for e in range(epoch):\n",
    "        img_name = root+'/image_'+str(e)+'.png'\n",
    "        images.append(imageio.imread(img_name))\n",
    "    imageio.mimsave(root+ '/' + name +'.gif', images, fps=5)\n",
    "\n",
    "def save_image(pic, path):\n",
    "    grid = torchvision.utils.make_grid(pic, nrow=8, padding=2)\n",
    "    ndarr = grid.mul(255).clamp(0, 255).byte().permute(1, 2, 0).cpu().numpy()\n",
    "    im = Image.fromarray(ndarr)\n",
    "    im.save(path)\n",
    "\n",
    "class LossModule: \n",
    "    def __init__(self, numberOfGens = 1):\n",
    "        self.D_loss = []\n",
    "        self.G_loss = []\n",
    "        self.Many_G_loss = [[]] * (numberOfGens+1)\n",
    "\n",
    "    def insertDiscriminatorLoss(self, lossVal):\n",
    "        self.D_loss.append(lossVal)\n",
    "    \n",
    "    def insertGeneratorLoss(self, lossVal):\n",
    "        self.G_loss.append(lossVal)\n",
    "    \n",
    "    def insertGeneratorList(self, lossList):\n",
    "        for i in range(0, len(lossList)):\n",
    "            self.Many_G_loss[i].append(lossList[i].data[0])\n",
    "        \n",
    "    def getDiscriminatorLoss(self):\n",
    "        return self.D_loss\n",
    "    \n",
    "    def getGeneratorLoss(self):\n",
    "        return self.G_loss\n",
    "    \n",
    "    def getGeneratorsList(self):\n",
    "        return self.Many_G_loss\n",
    "    \n",
    "    def drawLossPlot(self, showPlot = False, savePlot = True, label = \"Vanilla GAN Loss\", genList = False):\n",
    "        plt.xlabel('Iterations')\n",
    "        plt.ylabel('Loss')\n",
    "        plt.title(label)\n",
    "        if genList == True:\n",
    "            i = 0\n",
    "            for each in self.Many_G_loss:\n",
    "                i = i + 1\n",
    "                plt.plot(self.G_loss, label='Generator Loss {}'.format(i))\n",
    "        else:\n",
    "            plt.plot(self.G_loss, label='Generator Loss')\n",
    "        plt.plot(self.D_loss, label='Discriminator Loss')\n",
    "        legend = plt.legend(loc='upper right', shadow=True)\n",
    "\n",
    "        if showPlot:\n",
    "            plt.show()\n",
    "        if savePlot:\n",
    "            plt.savefig(label+'Loss_Plot_Vanilla_GAN_'+str(num_epochs)+'.png')"
   ]
  },
  {
   "cell_type": "code",
   "execution_count": 19,
   "metadata": {},
   "outputs": [],
   "source": [
    "# Network\n",
    "'''\n",
    "Generator = nn.Sequential(\n",
    "        nn.Linear(Generator_input, 256),\n",
    "        nn.LeakyReLU(0.2),\n",
    "        nn.Linear(256, 256),\n",
    "        nn.LeakyReLU(0.2),\n",
    "        nn.Linear(256, 784),\n",
    "        nn.Tanh())\n",
    "\n",
    "Discriminator = nn.Sequential(\n",
    "        nn.Linear(784, 256),\n",
    "        nn.LeakyReLU(0.2),\n",
    "        nn.Linear(256, 256),\n",
    "        nn.LeakyReLU(0.2),\n",
    "        nn.Linear(256,1),\n",
    "        nn.Sigmoid())\n",
    "'''\n",
    "Discriminator = nn.Sequential(\n",
    "            nn.Linear(784, 256),\n",
    "            nn.LeakyReLU(0.2),\n",
    "            nn.Linear(256, 256),\n",
    "            nn.LeakyReLU(0.2),\n",
    "            nn.Linear(256,1),\n",
    "            nn.Sigmoid())\n",
    "\n",
    "Generator_input = 64\n",
    "\n",
    "class Generator(nn.Module):\n",
    "    def __init__(self):\n",
    "        super(Generator, self).__init__()\n",
    "        self.fc1 = nn.Linear(Generator_input, 256)\n",
    "        self.fc2 = nn.Linear(256, 256)\n",
    "        self.fc3 = nn.Sequential(nn.Linear(256, 784), nn.Tanh())\n",
    "        self.lR = nn.LeakyReLU(0.2)\n",
    "            \n",
    "    def forward(self, x):\n",
    "        x = self.fc1(x)\n",
    "        x = self.lR(x)\n",
    "        x = self.fc2(x)\n",
    "        x = self.lR(x)\n",
    "        return self.fc3(x)\n",
    "\n",
    "\n",
    "#Gen = Generator()\n",
    "Generators = []\n",
    "GOptimizers = []\n",
    "NumberOfGenerators = 3\n",
    "for i in range(NumberOfGenerators):\n",
    "    #Generators.append(copy.deepcopy(Generator))\n",
    "    Generators.append(Generator())\n",
    "\n",
    "if IS_CUDA:\n",
    "    Discriminator.cuda()\n",
    "    for each in Generators:\n",
    "        each.cuda()"
   ]
  },
  {
   "cell_type": "code",
   "execution_count": 20,
   "metadata": {},
   "outputs": [],
   "source": [
    "lossManager = LossModule(numberOfGens = NumberOfGenerators)\n",
    "lossCriterion = nn.BCELoss()\n",
    "D_opt = torch.optim.Adam(Discriminator.parameters(), lr = 0.0001)\n",
    "#G_opt = torch.optim.Adam(Gen.parameters(), lr = 0.0001)\n",
    "GOptimizers = []\n",
    "for each in Generators:\n",
    "    GOptimizers.append(torch.optim.Adam(each.parameters(), lr = 0.0001))\n",
    "\n",
    "fixed_x = var(torch.randn(batch_size, Generator_input))\n",
    "\n",
    "GeneratorLoss = []\n",
    "def backPropGenerator(index, GeneratorLoss):\n",
    "    Generators[index].zero_grad()\n",
    "    GeneratorLoss[index].backward()\n",
    "    GOptimizers[index].step()"
   ]
  },
  {
   "cell_type": "code",
   "execution_count": 21,
   "metadata": {},
   "outputs": [],
   "source": [
    "# load model by loading from best one\n",
    "outputImages = []\n",
    "def train(BestPerformingGenerator, num_epochs = 10, d_iter = 1):\n",
    "    for epoch in range(num_epochs):\n",
    "        lossList = [0.0] * NumberOfGenerators\n",
    "        for data in data_loader:\n",
    "            image, _  = data\n",
    "            image = var(image.view(image.size(0),  -1))\n",
    "            \n",
    "            # Train Discriminator\n",
    "            # for k in range(0, d_iter):\n",
    "            # for each in Generators:\n",
    "            D_real = Discriminator(image)\n",
    "            # For Log(1 - D(G(Z)))\n",
    "            Z_noise = var(torch.randn(batch_size, Generator_input))\n",
    "            #print Z_noise.shape\n",
    "            #print type(Gen)\n",
    "            G_fake = Generators[BestPerformingGenerator](Z_noise) #each(Z_noise) \n",
    "            #print G_fake.shape\n",
    "            D_fake = Discriminator(G_fake)\n",
    "\n",
    "            # Calculate Discriminator Loss\n",
    "            D_real_loss = lossCriterion(D_real, var(torch.ones(batch_size, 1)))\n",
    "            D_fake_loss = lossCriterion(D_fake, var(torch.zeros(batch_size, 1)))\n",
    "            D_loss = D_real_loss + D_fake_loss\n",
    "\n",
    "            # Backprop Discriminator\n",
    "            Discriminator.zero_grad()\n",
    "            D_loss.backward()\n",
    "            D_opt.step()\n",
    "            # print 'Discriminator Loop for: {}: {}'.format(i, D_loss.data[0])\n",
    "   \n",
    "            # Find best performing Generator\n",
    "            i = 0\n",
    "            GeneratorLoss = []\n",
    "            for each, each_opt in zip(Generators, GOptimizers):\n",
    "                Z_noise = var(torch.randn(batch_size, Generator_input))\n",
    "                G_fake = each(Z_noise)\n",
    "                #print G_fake1.shape\n",
    "                #print type(each)\n",
    "                D_fake = Discriminator(G_fake)\n",
    "                # Compute Generator Loss\n",
    "                G_loss = lossCriterion(D_fake, var(torch.ones(batch_size, 1)))\n",
    "                GeneratorLoss.append(G_loss)\n",
    "                lossList[i] += (float(G_loss.data[0]))\n",
    "                i = i + 1\n",
    "                Discriminator.zero_grad()\n",
    "                each.zero_grad()\n",
    "                G_loss.backward()\n",
    "                each_opt.step()\n",
    "\n",
    "        BestPerformingGenerator = random.randint(0, NumberOfGenerators-1)    \n",
    "        for i in range(0, NumberOfGenerators):\n",
    "            if i != BestPerformingGenerator:\n",
    "                prev = Generators[i]\n",
    "                Generators[i] = Generator()\n",
    "                if IS_CUDA:\n",
    "                    Generators[i].cuda()\n",
    "                Generators[i].load_state_dict(Generators[BestPerformingGenerator].state_dict())\n",
    "                GOptimizers[i] = torch.optim.Adam(Generators[i].parameters(), lr = 0.0001)\n",
    "                GOptimizers[i].load_state_dict(GOptimizers[BestPerformingGenerator].state_dict())\n",
    "                if Generators[i] == prev:\n",
    "                    print 'ERROR: Generator unchanged'\n",
    "\n",
    "\n",
    "        print '{} Epoch [{}/{}], Discriminator {:.4f}, Best Generator[{}] {:.4f}'.format(BestPerformingGenerator, epoch+1, num_epochs, D_loss.data[0], BestPerformingGenerator, GeneratorLoss[BestPerformingGenerator].data[0])\n",
    "        lossManager.insertDiscriminatorLoss(D_loss.data[0])\n",
    "        lossManager.insertGeneratorLoss(G_loss.data[0])\n",
    "        # lossManager.insertGeneratorList(GeneratorLoss)\n",
    "        pic = Generators[BestPerformingGenerator](fixed_x)\n",
    "        pic = pic.view(pic.size(0), 1, 28, 28) \n",
    "        pic = denorm(pic.data)\n",
    "        outputImages.append(pic)\n",
    "        #torchvision.utils.save_image(pic, path+'image_{}.png'.format(epoch))\n",
    "        save_image(pic, path+'image_{}.png'.format(epoch))\n",
    "    return BestPerformingGenerator"
   ]
  },
  {
   "cell_type": "code",
   "execution_count": 22,
   "metadata": {},
   "outputs": [
    {
     "name": "stdout",
     "output_type": "stream",
     "text": [
      "[1096.5004920363426, 998.9493336081505, 1034.7462167739868]\n",
      "0 Epoch [1/200], Discriminator 0.2313, Best Generator[0] 3.0185\n",
      "[1772.50100004673, 1771.86940908432, 1770.9822174310684]\n",
      "0 Epoch [2/200], Discriminator 0.2273, Best Generator[0] 3.5742\n",
      "[1754.383185505867, 1777.878063082695, 1767.4357472658157]\n",
      "1 Epoch [3/200], Discriminator 0.1790, Best Generator[1] 2.7708\n"
     ]
    },
    {
     "ename": "KeyboardInterrupt",
     "evalue": "",
     "output_type": "error",
     "traceback": [
      "\u001b[0;31m---------------------------------------------------------------------------\u001b[0m",
      "\u001b[0;31mKeyboardInterrupt\u001b[0m                         Traceback (most recent call last)",
      "\u001b[0;32m<ipython-input-22-47c7f67b4974>\u001b[0m in \u001b[0;36m<module>\u001b[0;34m()\u001b[0m\n\u001b[1;32m      1\u001b[0m \u001b[0mnum_epochs\u001b[0m \u001b[0;34m=\u001b[0m \u001b[0;36m200\u001b[0m\u001b[0;34m\u001b[0m\u001b[0m\n\u001b[0;32m----> 2\u001b[0;31m \u001b[0mBestPerformingGenerator\u001b[0m \u001b[0;34m=\u001b[0m \u001b[0mtrain\u001b[0m\u001b[0;34m(\u001b[0m\u001b[0;36m0\u001b[0m\u001b[0;34m,\u001b[0m \u001b[0mnum_epochs\u001b[0m\u001b[0;34m)\u001b[0m\u001b[0;34m\u001b[0m\u001b[0m\n\u001b[0m",
      "\u001b[0;32m<ipython-input-21-2660960e443c>\u001b[0m in \u001b[0;36mtrain\u001b[0;34m(BestPerformingGenerator, num_epochs, d_iter)\u001b[0m\n\u001b[1;32m     27\u001b[0m             \u001b[0;31m# Backprop Discriminator\u001b[0m\u001b[0;34m\u001b[0m\u001b[0;34m\u001b[0m\u001b[0m\n\u001b[1;32m     28\u001b[0m             \u001b[0mDiscriminator\u001b[0m\u001b[0;34m.\u001b[0m\u001b[0mzero_grad\u001b[0m\u001b[0;34m(\u001b[0m\u001b[0;34m)\u001b[0m\u001b[0;34m\u001b[0m\u001b[0m\n\u001b[0;32m---> 29\u001b[0;31m             \u001b[0mD_loss\u001b[0m\u001b[0;34m.\u001b[0m\u001b[0mbackward\u001b[0m\u001b[0;34m(\u001b[0m\u001b[0;34m)\u001b[0m\u001b[0;34m\u001b[0m\u001b[0m\n\u001b[0m\u001b[1;32m     30\u001b[0m             \u001b[0mD_opt\u001b[0m\u001b[0;34m.\u001b[0m\u001b[0mstep\u001b[0m\u001b[0;34m(\u001b[0m\u001b[0;34m)\u001b[0m\u001b[0;34m\u001b[0m\u001b[0m\n\u001b[1;32m     31\u001b[0m             \u001b[0;31m# print 'Discriminator Loop for: {}: {}'.format(i, D_loss.data[0])\u001b[0m\u001b[0;34m\u001b[0m\u001b[0;34m\u001b[0m\u001b[0m\n",
      "\u001b[0;32m/home/bhushan/anaconda3/envs/py27/lib/python2.7/site-packages/torch/autograd/variable.pyc\u001b[0m in \u001b[0;36mbackward\u001b[0;34m(self, gradient, retain_graph, create_graph, retain_variables)\u001b[0m\n\u001b[1;32m    165\u001b[0m                 \u001b[0mVariable\u001b[0m\u001b[0;34m.\u001b[0m\u001b[0;34m\u001b[0m\u001b[0m\n\u001b[1;32m    166\u001b[0m         \"\"\"\n\u001b[0;32m--> 167\u001b[0;31m         \u001b[0mtorch\u001b[0m\u001b[0;34m.\u001b[0m\u001b[0mautograd\u001b[0m\u001b[0;34m.\u001b[0m\u001b[0mbackward\u001b[0m\u001b[0;34m(\u001b[0m\u001b[0mself\u001b[0m\u001b[0;34m,\u001b[0m \u001b[0mgradient\u001b[0m\u001b[0;34m,\u001b[0m \u001b[0mretain_graph\u001b[0m\u001b[0;34m,\u001b[0m \u001b[0mcreate_graph\u001b[0m\u001b[0;34m,\u001b[0m \u001b[0mretain_variables\u001b[0m\u001b[0;34m)\u001b[0m\u001b[0;34m\u001b[0m\u001b[0m\n\u001b[0m\u001b[1;32m    168\u001b[0m \u001b[0;34m\u001b[0m\u001b[0m\n\u001b[1;32m    169\u001b[0m     \u001b[0;32mdef\u001b[0m \u001b[0mregister_hook\u001b[0m\u001b[0;34m(\u001b[0m\u001b[0mself\u001b[0m\u001b[0;34m,\u001b[0m \u001b[0mhook\u001b[0m\u001b[0;34m)\u001b[0m\u001b[0;34m:\u001b[0m\u001b[0;34m\u001b[0m\u001b[0m\n",
      "\u001b[0;32m/home/bhushan/anaconda3/envs/py27/lib/python2.7/site-packages/torch/autograd/__init__.pyc\u001b[0m in \u001b[0;36mbackward\u001b[0;34m(variables, grad_variables, retain_graph, create_graph, retain_variables)\u001b[0m\n\u001b[1;32m     97\u001b[0m \u001b[0;34m\u001b[0m\u001b[0m\n\u001b[1;32m     98\u001b[0m     Variable._execution_engine.run_backward(\n\u001b[0;32m---> 99\u001b[0;31m         variables, grad_variables, retain_graph)\n\u001b[0m\u001b[1;32m    100\u001b[0m \u001b[0;34m\u001b[0m\u001b[0m\n\u001b[1;32m    101\u001b[0m \u001b[0;34m\u001b[0m\u001b[0m\n",
      "\u001b[0;31mKeyboardInterrupt\u001b[0m: "
     ]
    }
   ],
   "source": [
    "num_epochs = 200\n",
    "BestPerformingGenerator = train(0, num_epochs)"
   ]
  },
  {
   "cell_type": "code",
   "execution_count": 15,
   "metadata": {},
   "outputs": [
    {
     "data": {
      "image/png": "[encoded data removed]",
      "text/plain": [
       "<matplotlib.figure.Figure at 0x7f1d381f52d0>"
      ]
     },
     "metadata": {},
     "output_type": "display_data"
    }
   ],
   "source": [
    "# Plot the Loss for Generator and Discriminator\n",
    "lossManager.drawLossPlot(showPlot = True, savePlot = False)"
   ]
  },
  {
   "cell_type": "code",
   "execution_count": 70,
   "metadata": {},
   "outputs": [],
   "source": [
    "#lossL = lossManager.getGeneratorsList()"
   ]
  },
  {
   "cell_type": "code",
   "execution_count": 16,
   "metadata": {},
   "outputs": [],
   "source": [
    "# Generate GIF\n",
    "generate_animation(path, num_epochs, 'Max_Multiple_Gens')"
   ]
  },
  {
   "cell_type": "code",
   "execution_count": 18,
   "metadata": {},
   "outputs": [],
   "source": [
    "# Save the model\n",
    "torch.save(Generators[BestPerformingGenerator].state_dict(), './Generator.pkl')\n",
    "torch.save(Discriminator.state_dict(), './Discriminator.pkl')\n",
    "pickle.dump(lossManager, open( \"LossManager.pkl\", \"wb\" ))"
   ]
  },
  {
   "cell_type": "code",
   "execution_count": 74,
   "metadata": {},
   "outputs": [],
   "source": [
    "# Load Loss Manager for viewing data of 200 iterations\n",
    "#lossManagerTrained = pickle.load(open( \"200Iteration/LossManager.pkl\", \"rb\" ))"
   ]
  },
  {
   "cell_type": "code",
   "execution_count": 87,
   "metadata": {},
   "outputs": [],
   "source": [
    "#drawLossPlot(lossManagerTrained.getGeneratorLoss(), lossManagerTrained.getDiscriminatorLoss(), showPlot = False, savePlot = True, loc = \"200Iteration\")\n",
    "#drawLossPlot(lossManagerTrained.getGeneratorLoss(), lossManagerTrained.getDiscriminatorLoss(), showPlot = True, savePlot = False, loc = \"200Iteration\")"
   ]
  },
  {
   "cell_type": "code",
   "execution_count": 2,
   "metadata": {},
   "outputs": [],
   "source": [
    "# Load model for debugging and testing\n",
    "#Generator.load_state_dict(torch.load('Generator200.pkl'))\n",
    "#Discriminator.load_state_dict(torch.load('Discriminator200.pkl'))"
   ]
  }
 ],
 "metadata": {
  "kernelspec": {
   "display_name": "Python 2",
   "language": "python",
   "name": "python2"
  },
  "language_info": {
   "codemirror_mode": {
    "name": "ipython",
    "version": 2
   },
   "file_extension": ".py",
   "mimetype": "text/x-python",
   "name": "python",
   "nbconvert_exporter": "python",
   "pygments_lexer": "ipython2",
   "version": "2.7.14"
  }
 },
 "nbformat": 4,
 "nbformat_minor": 2
}
